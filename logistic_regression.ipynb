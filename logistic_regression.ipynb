{
 "cells": [
  {
   "cell_type": "code",
   "execution_count": 5,
   "id": "72f7b1b6",
   "metadata": {
    "scrolled": true
   },
   "outputs": [
    {
     "name": "stdout",
     "output_type": "stream",
     "text": [
      "      img_var  img_skew   img_curt  img_entr  auth\n",
      "1362 -2.16680   1.59330   0.045122  -1.67800     1\n",
      "1363 -1.16670  -1.42370   2.924100   0.66119     1\n",
      "1364 -2.83910  -6.63000  10.484900  -0.42113     1\n",
      "1365 -4.50460  -5.81260  10.886700  -0.52846     1\n",
      "1366 -2.41000   3.74330  -0.402150  -1.29530     1\n",
      "1367  0.40614   1.34920  -1.450100  -0.55949     1\n",
      "1368 -1.38870  -4.87730   6.477400   0.34179     1\n",
      "1369 -3.75030 -13.45860  17.593200  -2.77710     1\n",
      "1370 -3.56370  -8.38270  12.393000  -1.28230     1\n",
      "1371 -2.54190  -0.65804   2.684200   1.19520     1\n"
     ]
    }
   ],
   "source": [
    "# Logistical Regression\n",
    "\n",
    "# features (numerical)\n",
    "# variance of img wavelet\n",
    "# assymetry of img wavelet\n",
    "# sharpness of img wavelet\n",
    "# image entropy (measure of randomness of img texture)\n",
    "\n",
    "# label (binary)\n",
    "# 0: real bank note, 1: fake bank note \n",
    "\n",
    "import pandas as pd\n",
    "import numpy as np\n",
    "import matplotlib.pyplot as plt\n",
    "import seaborn as sns\n",
    "from sklearn.model_selection import train_test_split\n",
    "from sklearn.preprocessing import StandardScaler\n",
    "from sklearn.linear_model import LogisticRegression\n",
    "from sklearn.metrics import confusion_matrix \n",
    "\n",
    "data = pd.read_csv('currency.txt', header=None)\n",
    "data.columns = ['img_var', 'img_skew', 'img_curt', 'img_entr', 'auth']\n",
    "print(data.tail(10))"
   ]
  },
  {
   "cell_type": "code",
   "execution_count": 6,
   "id": "808d2433",
   "metadata": {},
   "outputs": [
    {
     "data": {
      "text/plain": [
       "1372"
      ]
     },
     "execution_count": 6,
     "metadata": {},
     "output_type": "execute_result"
    }
   ],
   "source": [
    "len(data.index)"
   ]
  },
  {
   "cell_type": "code",
   "execution_count": null,
   "id": "b1db6702",
   "metadata": {},
   "outputs": [],
   "source": []
  },
  {
   "cell_type": "code",
   "execution_count": 7,
   "id": "ed11e2fa",
   "metadata": {
    "scrolled": true
   },
   "outputs": [
    {
     "name": "stdout",
     "output_type": "stream",
     "text": [
      "<bound method DataFrame.info of       img_var  img_skew  img_curt  img_entr  auth\n",
      "0     3.62160   8.66610   -2.8073  -0.44699     0\n",
      "1     4.54590   8.16740   -2.4586  -1.46210     0\n",
      "2     3.86600  -2.63830    1.9242   0.10645     0\n",
      "3     3.45660   9.52280   -4.0112  -3.59440     0\n",
      "4     0.32924  -4.45520    4.5718  -0.98880     0\n",
      "...       ...       ...       ...       ...   ...\n",
      "1367  0.40614   1.34920   -1.4501  -0.55949     1\n",
      "1368 -1.38870  -4.87730    6.4774   0.34179     1\n",
      "1369 -3.75030 -13.45860   17.5932  -2.77710     1\n",
      "1370 -3.56370  -8.38270   12.3930  -1.28230     1\n",
      "1371 -2.54190  -0.65804    2.6842   1.19520     1\n",
      "\n",
      "[1372 rows x 5 columns]>\n"
     ]
    }
   ],
   "source": [
    "print(data.info)"
   ]
  },
  {
   "cell_type": "code",
   "execution_count": 8,
   "id": "c6a1b4ab",
   "metadata": {
    "scrolled": true
   },
   "outputs": [
    {
     "data": {
      "image/png": "[encoded data removed]",
      "text/plain": [
       "<Figure size 576x432 with 1 Axes>"
      ]
     },
     "metadata": {
      "needs_background": "light"
     },
     "output_type": "display_data"
    }
   ],
   "source": [
    "\n",
    "plt.figure(figsize=(8,6))\n",
    "plt.title('Distribution of Target Variable', size=15)\n",
    "sns.countplot(x=data['auth'])\n",
    "target_count = data.auth.value_counts()\n",
    "plt.annotate(text=target_count[0], xy=(-0.04,10+target_count[0]), size=14)\n",
    "plt.annotate(text=target_count[1], xy=(0.96,10+target_count[1]), size=14)\n",
    "plt.ylim(0,900)\n",
    "plt.show()"
   ]
  },
  {
   "cell_type": "code",
   "execution_count": null,
   "id": "243a6b31",
   "metadata": {},
   "outputs": [],
   "source": []
  },
  {
   "cell_type": "code",
   "execution_count": 9,
   "id": "5fca04bd",
   "metadata": {},
   "outputs": [
    {
     "name": "stdout",
     "output_type": "stream",
     "text": [
      "0    610\n",
      "1    610\n",
      "Name: auth, dtype: int64\n"
     ]
    }
   ],
   "source": [
    "# data is not evenly distributed \n",
    "# random undersampling to remove random 152 instances from classification 0\n",
    "\n",
    "nb_to_delete = target_count[0] - target_count[1]\n",
    "data = data.sample(frac=1, random_state=42).sort_values(by='auth')\n",
    "data = data[nb_to_delete:]\n",
    "print(data['auth'].value_counts())"
   ]
  },
  {
   "cell_type": "code",
   "execution_count": 10,
   "id": "c99b2137",
   "metadata": {
    "scrolled": true
   },
   "outputs": [
    {
     "data": {
      "image/png": "[encoded data removed]",
      "text/plain": [
       "<Figure size 576x432 with 1 Axes>"
      ]
     },
     "metadata": {
      "needs_background": "light"
     },
     "output_type": "display_data"
    }
   ],
   "source": [
    "plt.figure(figsize=(8,6))\n",
    "plt.title('Distribution of Target Variable', size=15)\n",
    "sns.countplot(x=data['auth'])\n",
    "target_count = data.auth.value_counts()\n",
    "plt.annotate(text=target_count[0], xy=(-0.04,10+target_count[0]), size=14)\n",
    "plt.annotate(text=target_count[1], xy=(0.96,10+target_count[1]), size=14)\n",
    "plt.ylim(0,900)\n",
    "plt.show()"
   ]
  },
  {
   "cell_type": "code",
   "execution_count": null,
   "id": "35d014f2",
   "metadata": {},
   "outputs": [],
   "source": []
  },
  {
   "cell_type": "code",
   "execution_count": 45,
   "id": "21e917ba",
   "metadata": {},
   "outputs": [],
   "source": [
    "# separate features and target to x and y respectively \n",
    "# split feature data for test and train \n",
    "\n",
    "x = data.loc[:, data.columns != 'auth']\n",
    "y = data.loc[:, data.columns == 'auth']\n",
    "x_train, x_test, y_train, y_test = train_test_split(x, y, test_size=0.2, random_state=42)"
   ]
  },
  {
   "cell_type": "code",
   "execution_count": 46,
   "id": "7c4c0d01",
   "metadata": {},
   "outputs": [],
   "source": [
    "# initialize scalar fit to standardize data \n",
    "\n",
    "scalar = StandardScaler()\n",
    "scalar.fit(x_train)\n",
    "x_train = scalar.transform(x_train)\n",
    "x_test = scalar.transform(x_test)"
   ]
  },
  {
   "cell_type": "code",
   "execution_count": 47,
   "id": "a30e5578",
   "metadata": {},
   "outputs": [
    {
     "data": {
      "text/plain": [
       "LogisticRegression(random_state=42)"
      ]
     },
     "execution_count": 47,
     "metadata": {},
     "output_type": "execute_result"
    }
   ],
   "source": [
    "# initialize logistic regtession \n",
    "\n",
    "clf = LogisticRegression(solver='lbfgs', random_state=42, multi_class='auto')\n",
    "clf.fit(x_train, y_train.values.ravel())"
   ]
  },
  {
   "cell_type": "code",
   "execution_count": 48,
   "id": "560dcef2",
   "metadata": {},
   "outputs": [
    {
     "name": "stdout",
     "output_type": "stream",
     "text": [
      "X_train: (1097, 4) \n",
      "X_test: (275, 4) \n",
      "y_train: (1097, 1) \n",
      "y_test: (275, 1)\n"
     ]
    }
   ],
   "source": [
    "print (f'X_train: {x_train.shape} \\nX_test: {x_test.shape} \\ny_train: {y_train.shape} \\ny_test: {y_test.shape}')"
   ]
  },
  {
   "cell_type": "code",
   "execution_count": 49,
   "id": "bd3471ec",
   "metadata": {
    "scrolled": true
   },
   "outputs": [
    {
     "name": "stdout",
     "output_type": "stream",
     "text": [
      "               Pred Negative  Pred Positive\n",
      "True Negative            145              3\n",
      "True Positive              0            127\n",
      "\n",
      " Accuracy = 0.989\n",
      "\n",
      " Precision = 0.977\n",
      "\n",
      " Recall = 1.0\n",
      "\n",
      " F1 Score = 0.988\n"
     ]
    }
   ],
   "source": [
    "# Confusion Matrix and accuracy, f1, precision, recall of model \n",
    "from sklearn.metrics import f1_score\n",
    "\n",
    "y_pred = np.array(clf.predict(x_test))\n",
    "conf_mat = pd.DataFrame(confusion_matrix(y_test, y_pred),\n",
    "                        columns=[\"Pred Negative\", \"Pred Positive\"],\n",
    "                        index=['True Negative', \"True Positive\"])\n",
    "tn, fp, fn, tp = confusion_matrix(y_test, y_pred).ravel()\n",
    "accuracy = round((tn+tp)/(tn+fp+fn+tp), 3)\n",
    "precision = round((tp)/(tp+fp),3)\n",
    "recall = round((tp)/(tp+fn),4)\n",
    "f1 = round(f1_score(y_test,y_pred),3)\n",
    "print(conf_mat)\n",
    "print(f'\\n Accuracy =', accuracy)\n",
    "print(f'\\n Precision =', precision)\n",
    "print(f'\\n Recall =', recall)\n",
    "print(f'\\n F1 Score =', f1)"
   ]
  },
  {
   "cell_type": "code",
   "execution_count": null,
   "id": "807a9430",
   "metadata": {
    "scrolled": true
   },
   "outputs": [],
   "source": []
  },
  {
   "cell_type": "code",
   "execution_count": 50,
   "id": "f0f4f4c2",
   "metadata": {},
   "outputs": [
    {
     "name": "stdout",
     "output_type": "stream",
     "text": [
      "Prediction:  Class0\n",
      "Probability [0/1]:  [0.65791575 0.34208425]\n"
     ]
    }
   ],
   "source": [
    "# simulating new data \n",
    "# returns predicted class, and determination of probability for belonging to each class \n",
    "\n",
    "new_banknote = np.array([4.5, -8.1, 2.4, 1.4], ndmin=2)\n",
    "new_banknote = scalar.transform(new_banknote)\n",
    "print(f'Prediction:  Class{clf.predict(new_banknote)[0]}')\n",
    "print(f'Probability [0/1]:  {clf.predict_proba(new_banknote)[0]}')"
   ]
  },
  {
   "cell_type": "code",
   "execution_count": null,
   "id": "335172b0",
   "metadata": {},
   "outputs": [],
   "source": []
  },
  {
   "cell_type": "code",
   "execution_count": 51,
   "id": "3dd3dd23",
   "metadata": {},
   "outputs": [
    {
     "name": "stdout",
     "output_type": "stream",
     "text": [
      "Prediction:  Class0\n",
      "Probability [0/1]:  [9.99262446e-01 7.37553815e-04]\n"
     ]
    }
   ],
   "source": [
    "new_banknote = np.array([3.2, -2.4, 5.8, -3.4], ndmin=2)\n",
    "new_banknote = scalar.transform(new_banknote)\n",
    "print(f'Prediction:  Class{clf.predict(new_banknote)[0]}')\n",
    "print(f'Probability [0/1]:  {clf.predict_proba(new_banknote)[0]}')"
   ]
  },
  {
   "cell_type": "code",
   "execution_count": 52,
   "id": "9901115b",
   "metadata": {},
   "outputs": [
    {
     "name": "stdout",
     "output_type": "stream",
     "text": [
      "Prediction:  Class1\n",
      "Probability [0/1]:  [0.23646291 0.76353709]\n"
     ]
    }
   ],
   "source": [
    "new_banknote = np.array([1.5, -6.1, 4.4, 6.4], ndmin=2)\n",
    "new_banknote = scalar.transform(new_banknote)\n",
    "print(f'Prediction:  Class{clf.predict(new_banknote)[0]}')\n",
    "print(f'Probability [0/1]:  {clf.predict_proba(new_banknote)[0]}')"
   ]
  },
  {
   "cell_type": "code",
   "execution_count": 53,
   "id": "3e84ee97",
   "metadata": {},
   "outputs": [
    {
     "name": "stdout",
     "output_type": "stream",
     "text": [
      "Prediction:  Class1\n",
      "Probability [0/1]:  [0.01007083 0.98992917]\n"
     ]
    }
   ],
   "source": [
    "new_banknote = np.array([0.5, -5.7, 2.2, 5.4], ndmin=2)\n",
    "new_banknote = scalar.transform(new_banknote)\n",
    "print(f'Prediction:  Class{clf.predict(new_banknote)[0]}')\n",
    "print(f'Probability [0/1]:  {clf.predict_proba(new_banknote)[0]}')"
   ]
  },
  {
   "cell_type": "code",
   "execution_count": null,
   "id": "3f56b025",
   "metadata": {},
   "outputs": [],
   "source": []
  }
 ],
 "metadata": {
  "kernelspec": {
   "display_name": "Python 3 (ipykernel)",
   "language": "python",
   "name": "python3"
  },
  "language_info": {
   "codemirror_mode": {
    "name": "ipython",
    "version": 3
   },
   "file_extension": ".py",
   "mimetype": "text/x-python",
   "name": "python",
   "nbconvert_exporter": "python",
   "pygments_lexer": "ipython3",
   "version": "3.9.7"
  }
 },
 "nbformat": 4,
 "nbformat_minor": 5
}
